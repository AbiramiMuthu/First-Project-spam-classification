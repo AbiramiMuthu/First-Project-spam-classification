{
 "cells": [
  {
   "cell_type": "code",
   "execution_count": 1,
   "metadata": {
    "executionInfo": {
     "elapsed": 433,
     "status": "ok",
     "timestamp": 1622113449148,
     "user": {
      "displayName": "Abirami Muthu",
      "photoUrl": "",
      "userId": "12714011449706528785"
     },
     "user_tz": -330
    },
    "id": "6TiTTXKcXSyP"
   },
   "outputs": [
    {
     "name": "stderr",
     "output_type": "stream",
     "text": [
      "Matplotlib is building the font cache; this may take a moment.\n"
     ]
    }
   ],
   "source": [
    "import numpy as np\n",
    "import pandas as pd\n",
    "import matplotlib.pyplot as plt\n"
   ]
  },
  {
   "cell_type": "code",
   "execution_count": 2,
   "metadata": {
    "executionInfo": {
     "elapsed": 3406,
     "status": "ok",
     "timestamp": 1622113454223,
     "user": {
      "displayName": "Abirami Muthu",
      "photoUrl": "",
      "userId": "12714011449706528785"
     },
     "user_tz": -330
    },
    "id": "RV9d1tzaY5kl"
   },
   "outputs": [],
   "source": [
    "#file is in the below drive location mount the drive everytime \n",
    "#df=pd.read_csv(\"/content/drive/MyDrive/NLP_NOTEBOOKS/MINE/KGP files/All-CSV-ML-Data-Files-Download-master/spam.tsv\",sep='\\t')\n",
    "df=pd.read_csv(\"spam.tsv\",sep='\\t')"
   ]
  },
  {
   "cell_type": "code",
   "execution_count": 3,
   "metadata": {
    "colab": {
     "base_uri": "https://localhost:8080/",
     "height": 204
    },
    "executionInfo": {
     "elapsed": 58,
     "status": "ok",
     "timestamp": 1622113454225,
     "user": {
      "displayName": "Abirami Muthu",
      "photoUrl": "",
      "userId": "12714011449706528785"
     },
     "user_tz": -330
    },
    "id": "qtjOkMJZZPmq",
    "outputId": "d249a64a-8b15-4cf9-c242-c4c7a8817c8d",
    "scrolled": true
   },
   "outputs": [
    {
     "data": {
      "text/html": [
       "<div>\n",
       "<style scoped>\n",
       "    .dataframe tbody tr th:only-of-type {\n",
       "        vertical-align: middle;\n",
       "    }\n",
       "\n",
       "    .dataframe tbody tr th {\n",
       "        vertical-align: top;\n",
       "    }\n",
       "\n",
       "    .dataframe thead th {\n",
       "        text-align: right;\n",
       "    }\n",
       "</style>\n",
       "<table border=\"1\" class=\"dataframe\">\n",
       "  <thead>\n",
       "    <tr style=\"text-align: right;\">\n",
       "      <th></th>\n",
       "      <th>label</th>\n",
       "      <th>message</th>\n",
       "      <th>length</th>\n",
       "      <th>punct</th>\n",
       "    </tr>\n",
       "  </thead>\n",
       "  <tbody>\n",
       "    <tr>\n",
       "      <th>0</th>\n",
       "      <td>ham</td>\n",
       "      <td>Go until jurong point, crazy.. Available only ...</td>\n",
       "      <td>111</td>\n",
       "      <td>9</td>\n",
       "    </tr>\n",
       "    <tr>\n",
       "      <th>1</th>\n",
       "      <td>ham</td>\n",
       "      <td>Ok lar... Joking wif u oni...</td>\n",
       "      <td>29</td>\n",
       "      <td>6</td>\n",
       "    </tr>\n",
       "    <tr>\n",
       "      <th>2</th>\n",
       "      <td>spam</td>\n",
       "      <td>Free entry in 2 a wkly comp to win FA Cup fina...</td>\n",
       "      <td>155</td>\n",
       "      <td>6</td>\n",
       "    </tr>\n",
       "    <tr>\n",
       "      <th>3</th>\n",
       "      <td>ham</td>\n",
       "      <td>U dun say so early hor... U c already then say...</td>\n",
       "      <td>49</td>\n",
       "      <td>6</td>\n",
       "    </tr>\n",
       "    <tr>\n",
       "      <th>4</th>\n",
       "      <td>ham</td>\n",
       "      <td>Nah I don't think he goes to usf, he lives aro...</td>\n",
       "      <td>61</td>\n",
       "      <td>2</td>\n",
       "    </tr>\n",
       "  </tbody>\n",
       "</table>\n",
       "</div>"
      ],
      "text/plain": [
       "  label                                            message  length  punct\n",
       "0   ham  Go until jurong point, crazy.. Available only ...     111      9\n",
       "1   ham                      Ok lar... Joking wif u oni...      29      6\n",
       "2  spam  Free entry in 2 a wkly comp to win FA Cup fina...     155      6\n",
       "3   ham  U dun say so early hor... U c already then say...      49      6\n",
       "4   ham  Nah I don't think he goes to usf, he lives aro...      61      2"
      ]
     },
     "execution_count": 3,
     "metadata": {},
     "output_type": "execute_result"
    }
   ],
   "source": [
    "df.head(5)"
   ]
  },
  {
   "cell_type": "code",
   "execution_count": 4,
   "metadata": {
    "colab": {
     "base_uri": "https://localhost:8080/"
    },
    "executionInfo": {
     "elapsed": 52,
     "status": "ok",
     "timestamp": 1622113454227,
     "user": {
      "displayName": "Abirami Muthu",
      "photoUrl": "",
      "userId": "12714011449706528785"
     },
     "user_tz": -330
    },
    "id": "8WfiiYGAZcg-",
    "outputId": "1e29b01d-3c77-4835-9080-6b0e76bfe718"
   },
   "outputs": [
    {
     "data": {
      "text/plain": [
       "label      0\n",
       "message    0\n",
       "length     0\n",
       "punct      0\n",
       "dtype: int64"
      ]
     },
     "execution_count": 4,
     "metadata": {},
     "output_type": "execute_result"
    }
   ],
   "source": [
    "df.isnull().sum()"
   ]
  },
  {
   "cell_type": "code",
   "execution_count": 5,
   "metadata": {
    "colab": {
     "base_uri": "https://localhost:8080/"
    },
    "executionInfo": {
     "elapsed": 50,
     "status": "ok",
     "timestamp": 1622113454232,
     "user": {
      "displayName": "Abirami Muthu",
      "photoUrl": "",
      "userId": "12714011449706528785"
     },
     "user_tz": -330
    },
    "id": "Tb3P_-3Qa5xp",
    "outputId": "35e40e42-9cd0-4c35-a327-dbbeb3750e85"
   },
   "outputs": [
    {
     "data": {
      "text/plain": [
       "ham     4825\n",
       "spam     747\n",
       "Name: label, dtype: int64"
      ]
     },
     "execution_count": 5,
     "metadata": {},
     "output_type": "execute_result"
    }
   ],
   "source": [
    "df[\"label\"].value_counts()"
   ]
  },
  {
   "cell_type": "code",
   "execution_count": 6,
   "metadata": {
    "colab": {
     "base_uri": "https://localhost:8080/"
    },
    "executionInfo": {
     "elapsed": 50,
     "status": "ok",
     "timestamp": 1622113454237,
     "user": {
      "displayName": "Abirami Muthu",
      "photoUrl": "",
      "userId": "12714011449706528785"
     },
     "user_tz": -330
    },
    "id": "DbXqgKSbbAn1",
    "outputId": "870675d0-97c9-48d3-8c95-69f64c989906"
   },
   "outputs": [
    {
     "data": {
      "text/plain": [
       "(747, 4)"
      ]
     },
     "execution_count": 6,
     "metadata": {},
     "output_type": "execute_result"
    }
   ],
   "source": [
    "spam_df=df[df[\"label\"]==\"spam\"]\n",
    "spam_df.shape"
   ]
  },
  {
   "cell_type": "code",
   "execution_count": 7,
   "metadata": {
    "colab": {
     "base_uri": "https://localhost:8080/"
    },
    "executionInfo": {
     "elapsed": 50,
     "status": "ok",
     "timestamp": 1622113454239,
     "user": {
      "displayName": "Abirami Muthu",
      "photoUrl": "",
      "userId": "12714011449706528785"
     },
     "user_tz": -330
    },
    "id": "GeYI31NTcIts",
    "outputId": "9686a128-4583-4e01-d3e4-5592de91921a"
   },
   "outputs": [
    {
     "data": {
      "text/plain": [
       "(4825, 4)"
      ]
     },
     "execution_count": 7,
     "metadata": {},
     "output_type": "execute_result"
    }
   ],
   "source": [
    "ham_df=df[df[\"label\"]==\"ham\"]\n",
    "ham_df.shape"
   ]
  },
  {
   "cell_type": "code",
   "execution_count": 8,
   "metadata": {
    "colab": {
     "base_uri": "https://localhost:8080/"
    },
    "executionInfo": {
     "elapsed": 48,
     "status": "ok",
     "timestamp": 1622113454241,
     "user": {
      "displayName": "Abirami Muthu",
      "photoUrl": "",
      "userId": "12714011449706528785"
     },
     "user_tz": -330
    },
    "id": "yJc2IKLZcOI-",
    "outputId": "6e02ac97-c743-4bfc-d1eb-64fa4a7db8a4"
   },
   "outputs": [
    {
     "data": {
      "text/plain": [
       "(747, 4)"
      ]
     },
     "execution_count": 8,
     "metadata": {},
     "output_type": "execute_result"
    }
   ],
   "source": [
    "#the dataset is imbalanced so to balance it we take the number of spam messages alone from ham\n",
    "new_ham_df=ham_df.sample(spam_df.shape[0])\n",
    "new_ham_df.shape"
   ]
  },
  {
   "cell_type": "code",
   "execution_count": 9,
   "metadata": {
    "colab": {
     "base_uri": "https://localhost:8080/"
    },
    "executionInfo": {
     "elapsed": 47,
     "status": "ok",
     "timestamp": 1622113454242,
     "user": {
      "displayName": "Abirami Muthu",
      "photoUrl": "",
      "userId": "12714011449706528785"
     },
     "user_tz": -330
    },
    "id": "TUDyLDfScuKv",
    "outputId": "cc2890dc-32ea-4824-93b4-5816e5ce3a72"
   },
   "outputs": [
    {
     "data": {
      "text/plain": [
       "(1494, 4)"
      ]
     },
     "execution_count": 9,
     "metadata": {},
     "output_type": "execute_result"
    }
   ],
   "source": [
    "#now append both the dataframe\n",
    "data_df=new_ham_df.append(spam_df,ignore_index=True)\n",
    "data_df.shape"
   ]
  },
  {
   "cell_type": "markdown",
   "metadata": {
    "id": "AKTivpn2eWOF"
   },
   "source": [
    "# Exploratory Data Analysis"
   ]
  },
  {
   "cell_type": "code",
   "execution_count": 10,
   "metadata": {
    "colab": {
     "base_uri": "https://localhost:8080/",
     "height": 265
    },
    "executionInfo": {
     "elapsed": 45,
     "status": "ok",
     "timestamp": 1622113454243,
     "user": {
      "displayName": "Abirami Muthu",
      "photoUrl": "",
      "userId": "12714011449706528785"
     },
     "user_tz": -330
    },
    "id": "QI00yj-KdX3y",
    "outputId": "b6877284-806f-44b7-f313-01a81841b5cf"
   },
   "outputs": [
    {
     "data": {
      "image/png": "[encoded data removed]",
      "text/plain": [
       "<Figure size 432x288 with 1 Axes>"
      ]
     },
     "metadata": {
      "needs_background": "light"
     },
     "output_type": "display_data"
    }
   ],
   "source": [
    "plt.hist(data_df[data_df[\"label\"]==\"spam\"][\"length\"],bins=150,alpha=0.9)\n",
    "plt.hist(data_df[data_df[\"label\"]==\"ham\"][\"length\"],bins=150,alpha=0.9)\n",
    "plt.show()"
   ]
  },
  {
   "cell_type": "code",
   "execution_count": 11,
   "metadata": {
    "colab": {
     "base_uri": "https://localhost:8080/",
     "height": 265
    },
    "executionInfo": {
     "elapsed": 44,
     "status": "ok",
     "timestamp": 1622113454244,
     "user": {
      "displayName": "Abirami Muthu",
      "photoUrl": "",
      "userId": "12714011449706528785"
     },
     "user_tz": -330
    },
    "id": "mJ4b8mPneG4b",
    "outputId": "db43297d-467b-4916-c5e5-64cab70cd73d"
   },
   "outputs": [
    {
     "data": {
      "image/png": "[encoded data removed]",
      "text/plain": [
       "<Figure size 432x288 with 1 Axes>"
      ]
     },
     "metadata": {
      "needs_background": "light"
     },
     "output_type": "display_data"
    }
   ],
   "source": [
    "plt.hist(data_df[data_df[\"label\"]==\"spam\"][\"punct\"],bins=100,alpha=0.9)\n",
    "plt.hist(data_df[data_df[\"label\"]==\"ham\"][\"punct\"],bins=100,alpha=0.9)\n",
    "plt.show()"
   ]
  },
  {
   "cell_type": "markdown",
   "metadata": {
    "id": "0Cf5BwMYi9rc"
   },
   "source": [
    "# Data Preparation"
   ]
  },
  {
   "cell_type": "code",
   "execution_count": 12,
   "metadata": {
    "executionInfo": {
     "elapsed": 866,
     "status": "ok",
     "timestamp": 1622113455069,
     "user": {
      "displayName": "Abirami Muthu",
      "photoUrl": "",
      "userId": "12714011449706528785"
     },
     "user_tz": -330
    },
    "id": "b2aF5XVLi3c2"
   },
   "outputs": [],
   "source": [
    "from sklearn.model_selection import train_test_split\n",
    "from sklearn.ensemble import RandomForestClassifier\n",
    "from sklearn.svm import SVC\n",
    "from sklearn.metrics import accuracy_score,classification_report,confusion_matrix\n",
    "from sklearn.pipeline import Pipeline\n",
    "from sklearn.feature_extraction.text import TfidfVectorizer"
   ]
  },
  {
   "cell_type": "code",
   "execution_count": 13,
   "metadata": {
    "colab": {
     "base_uri": "https://localhost:8080/"
    },
    "executionInfo": {
     "elapsed": 12,
     "status": "ok",
     "timestamp": 1622113455070,
     "user": {
      "displayName": "Abirami Muthu",
      "photoUrl": "",
      "userId": "12714011449706528785"
     },
     "user_tz": -330
    },
    "id": "uVHGcdo4jjCA",
    "outputId": "28fdb49c-e33f-475d-addb-62394394f8c0"
   },
   "outputs": [
    {
     "name": "stdout",
     "output_type": "stream",
     "text": [
      "(1045,) (1045,)\n",
      "(449,) (449,)\n"
     ]
    }
   ],
   "source": [
    "x_train,x_test,y_train,y_test=train_test_split(data_df[\"message\"],data_df[\"label\"],test_size=0.3,random_state=0,shuffle=True,stratify=data_df[\"label\"])\n",
    "print(x_train.shape,y_train.shape)\n",
    "print(x_test.shape,y_test.shape)\n"
   ]
  },
  {
   "cell_type": "markdown",
   "metadata": {
    "id": "pFvvgsiEnZ59"
   },
   "source": [
    "# Pipeline RandomForestClassifier"
   ]
  },
  {
   "cell_type": "code",
   "execution_count": 14,
   "metadata": {
    "executionInfo": {
     "elapsed": 729,
     "status": "ok",
     "timestamp": 1622115049298,
     "user": {
      "displayName": "Abirami Muthu",
      "photoUrl": "",
      "userId": "12714011449706528785"
     },
     "user_tz": -330
    },
    "id": "IrFI1Rhjma5x"
   },
   "outputs": [],
   "source": [
    "classifier=Pipeline([(\"tfidf\",TfidfVectorizer()),(\"rfc\",RandomForestClassifier(n_estimators=100,n_jobs=-1))])"
   ]
  },
  {
   "cell_type": "code",
   "execution_count": 15,
   "metadata": {
    "colab": {
     "base_uri": "https://localhost:8080/"
    },
    "executionInfo": {
     "elapsed": 11,
     "status": "ok",
     "timestamp": 1622115049846,
     "user": {
      "displayName": "Abirami Muthu",
      "photoUrl": "",
      "userId": "12714011449706528785"
     },
     "user_tz": -330
    },
    "id": "TAqMCQhZoFLP",
    "outputId": "ee38d371-105b-4b33-bf64-9fc9155e48cc"
   },
   "outputs": [
    {
     "data": {
      "text/plain": [
       "Pipeline(steps=[('tfidf', TfidfVectorizer()),\n",
       "                ('rfc', RandomForestClassifier(n_jobs=-1))])"
      ]
     },
     "execution_count": 15,
     "metadata": {},
     "output_type": "execute_result"
    }
   ],
   "source": [
    "classifier.fit(x_train,y_train)"
   ]
  },
  {
   "cell_type": "code",
   "execution_count": 16,
   "metadata": {
    "executionInfo": {
     "elapsed": 10,
     "status": "ok",
     "timestamp": 1622115049847,
     "user": {
      "displayName": "Abirami Muthu",
      "photoUrl": "",
      "userId": "12714011449706528785"
     },
     "user_tz": -330
    },
    "id": "3IO2gVcNoJUq"
   },
   "outputs": [],
   "source": [
    "y_pred=classifier.predict(x_test)"
   ]
  },
  {
   "cell_type": "code",
   "execution_count": 17,
   "metadata": {
    "colab": {
     "base_uri": "https://localhost:8080/"
    },
    "executionInfo": {
     "elapsed": 9,
     "status": "ok",
     "timestamp": 1622115049847,
     "user": {
      "displayName": "Abirami Muthu",
      "photoUrl": "",
      "userId": "12714011449706528785"
     },
     "user_tz": -330
    },
    "id": "PTTHLZc2f_Nh",
    "outputId": "dd17e5bd-7cd1-4a2a-af06-b40dad3731f6"
   },
   "outputs": [
    {
     "data": {
      "text/plain": [
       "array([[224,   1],\n",
       "       [ 24, 200]], dtype=int64)"
      ]
     },
     "execution_count": 17,
     "metadata": {},
     "output_type": "execute_result"
    }
   ],
   "source": [
    "confusion_matrix(y_test,y_pred)"
   ]
  },
  {
   "cell_type": "code",
   "execution_count": 18,
   "metadata": {
    "colab": {
     "base_uri": "https://localhost:8080/"
    },
    "executionInfo": {
     "elapsed": 8,
     "status": "ok",
     "timestamp": 1622115049848,
     "user": {
      "displayName": "Abirami Muthu",
      "photoUrl": "",
      "userId": "12714011449706528785"
     },
     "user_tz": -330
    },
    "id": "Z2L2nKurgZZ6",
    "outputId": "c3c6357c-791a-4b69-cd4d-ee4a2b7b84d4"
   },
   "outputs": [
    {
     "name": "stdout",
     "output_type": "stream",
     "text": [
      "              precision    recall  f1-score   support\n",
      "\n",
      "         ham       0.90      1.00      0.95       225\n",
      "        spam       1.00      0.89      0.94       224\n",
      "\n",
      "    accuracy                           0.94       449\n",
      "   macro avg       0.95      0.94      0.94       449\n",
      "weighted avg       0.95      0.94      0.94       449\n",
      "\n"
     ]
    }
   ],
   "source": [
    "print(classification_report(y_test,y_pred))"
   ]
  },
  {
   "cell_type": "code",
   "execution_count": 19,
   "metadata": {
    "colab": {
     "base_uri": "https://localhost:8080/"
    },
    "executionInfo": {
     "elapsed": 7,
     "status": "ok",
     "timestamp": 1622115049848,
     "user": {
      "displayName": "Abirami Muthu",
      "photoUrl": "",
      "userId": "12714011449706528785"
     },
     "user_tz": -330
    },
    "id": "NGL7UNH1ggEw",
    "outputId": "4e3e1a49-9185-4c56-fccf-e9a32993e96b"
   },
   "outputs": [
    {
     "data": {
      "text/plain": [
       "0.9443207126948775"
      ]
     },
     "execution_count": 19,
     "metadata": {},
     "output_type": "execute_result"
    }
   ],
   "source": [
    "accuracy_score(y_test,y_pred)"
   ]
  },
  {
   "cell_type": "code",
   "execution_count": 20,
   "metadata": {
    "colab": {
     "base_uri": "https://localhost:8080/"
    },
    "executionInfo": {
     "elapsed": 493,
     "status": "ok",
     "timestamp": 1622115050335,
     "user": {
      "displayName": "Abirami Muthu",
      "photoUrl": "",
      "userId": "12714011449706528785"
     },
     "user_tz": -330
    },
    "id": "vGF5oAoeg58Z",
    "outputId": "0d909b4d-84a6-4341-ce6b-e1a9549f2421"
   },
   "outputs": [
    {
     "data": {
      "text/plain": [
       "array(['ham'], dtype=object)"
      ]
     },
     "execution_count": 20,
     "metadata": {},
     "output_type": "execute_result"
    }
   ],
   "source": [
    "classifier.predict([\"Hi i am doing good how about you\"])"
   ]
  },
  {
   "cell_type": "code",
   "execution_count": 21,
   "metadata": {
    "colab": {
     "base_uri": "https://localhost:8080/"
    },
    "executionInfo": {
     "elapsed": 8,
     "status": "ok",
     "timestamp": 1622115050336,
     "user": {
      "displayName": "Abirami Muthu",
      "photoUrl": "",
      "userId": "12714011449706528785"
     },
     "user_tz": -330
    },
    "id": "ljA5Z6aDiOsT",
    "outputId": "e8c5afb6-b5d4-473b-e8a3-5c2944579b75"
   },
   "outputs": [
    {
     "data": {
      "text/plain": [
       "array(['spam'], dtype=object)"
      ]
     },
     "execution_count": 21,
     "metadata": {},
     "output_type": "execute_result"
    }
   ],
   "source": [
    "classifier.predict([\"you have won free tickets to US\"])"
   ]
  },
  {
   "cell_type": "markdown",
   "metadata": {
    "id": "qGtE3dUSigvX"
   },
   "source": [
    "# Pipeline SVM Classifier"
   ]
  },
  {
   "cell_type": "code",
   "execution_count": 22,
   "metadata": {
    "executionInfo": {
     "elapsed": 377,
     "status": "ok",
     "timestamp": 1622116560941,
     "user": {
      "displayName": "Abirami Muthu",
      "photoUrl": "",
      "userId": "12714011449706528785"
     },
     "user_tz": -330
    },
    "id": "KP0tzHe0ij-N"
   },
   "outputs": [],
   "source": [
    "classifier=Pipeline([(\"tfidf\",TfidfVectorizer()),(\"svm\",SVC(C=100,gamma='auto'))])"
   ]
  },
  {
   "cell_type": "code",
   "execution_count": 23,
   "metadata": {
    "colab": {
     "base_uri": "https://localhost:8080/"
    },
    "executionInfo": {
     "elapsed": 4,
     "status": "ok",
     "timestamp": 1622116562442,
     "user": {
      "displayName": "Abirami Muthu",
      "photoUrl": "",
      "userId": "12714011449706528785"
     },
     "user_tz": -330
    },
    "id": "Mym-it5VmFwE",
    "outputId": "565b9ede-d867-4c51-d6fc-2a026a89a759"
   },
   "outputs": [
    {
     "data": {
      "text/plain": [
       "Pipeline(steps=[('tfidf', TfidfVectorizer()),\n",
       "                ('svm', SVC(C=100, gamma='auto'))])"
      ]
     },
     "execution_count": 23,
     "metadata": {},
     "output_type": "execute_result"
    }
   ],
   "source": [
    "classifier.fit(x_train,y_train)"
   ]
  },
  {
   "cell_type": "code",
   "execution_count": 24,
   "metadata": {
    "executionInfo": {
     "elapsed": 5,
     "status": "ok",
     "timestamp": 1622116564181,
     "user": {
      "displayName": "Abirami Muthu",
      "photoUrl": "",
      "userId": "12714011449706528785"
     },
     "user_tz": -330
    },
    "id": "6oVjTuG1q71E"
   },
   "outputs": [],
   "source": [
    "y_pred=classifier.predict(x_test)"
   ]
  },
  {
   "cell_type": "code",
   "execution_count": 25,
   "metadata": {
    "colab": {
     "base_uri": "https://localhost:8080/"
    },
    "executionInfo": {
     "elapsed": 5,
     "status": "ok",
     "timestamp": 1622116565426,
     "user": {
      "displayName": "Abirami Muthu",
      "photoUrl": "",
      "userId": "12714011449706528785"
     },
     "user_tz": -330
    },
    "id": "FLhMLSNcrBjv",
    "outputId": "9607b797-1f7e-420a-faa4-c486af11c3f5"
   },
   "outputs": [
    {
     "data": {
      "text/plain": [
       "array([[224,   1],\n",
       "       [ 34, 190]], dtype=int64)"
      ]
     },
     "execution_count": 25,
     "metadata": {},
     "output_type": "execute_result"
    }
   ],
   "source": [
    "confusion_matrix(y_test,y_pred)"
   ]
  },
  {
   "cell_type": "code",
   "execution_count": 26,
   "metadata": {
    "colab": {
     "base_uri": "https://localhost:8080/"
    },
    "executionInfo": {
     "elapsed": 366,
     "status": "ok",
     "timestamp": 1622116588081,
     "user": {
      "displayName": "Abirami Muthu",
      "photoUrl": "",
      "userId": "12714011449706528785"
     },
     "user_tz": -330
    },
    "id": "BFDqCxJwrFjw",
    "outputId": "43a39705-3239-426c-eef1-dbc12a34f67f"
   },
   "outputs": [
    {
     "name": "stdout",
     "output_type": "stream",
     "text": [
      "              precision    recall  f1-score   support\n",
      "\n",
      "         ham       0.87      1.00      0.93       225\n",
      "        spam       0.99      0.85      0.92       224\n",
      "\n",
      "    accuracy                           0.92       449\n",
      "   macro avg       0.93      0.92      0.92       449\n",
      "weighted avg       0.93      0.92      0.92       449\n",
      "\n"
     ]
    }
   ],
   "source": [
    "print(classification_report(y_test,y_pred))"
   ]
  },
  {
   "cell_type": "code",
   "execution_count": 27,
   "metadata": {
    "colab": {
     "base_uri": "https://localhost:8080/"
    },
    "executionInfo": {
     "elapsed": 369,
     "status": "ok",
     "timestamp": 1622116608387,
     "user": {
      "displayName": "Abirami Muthu",
      "photoUrl": "",
      "userId": "12714011449706528785"
     },
     "user_tz": -330
    },
    "id": "YSHZUHWkrtZ7",
    "outputId": "f7d9d79c-955d-459a-9482-499e90112473"
   },
   "outputs": [
    {
     "data": {
      "text/plain": [
       "0.9220489977728286"
      ]
     },
     "execution_count": 27,
     "metadata": {},
     "output_type": "execute_result"
    }
   ],
   "source": [
    "accuracy_score(y_test,y_pred)"
   ]
  },
  {
   "cell_type": "code",
   "execution_count": null,
   "metadata": {
    "id": "NkCbUmkxryUj"
   },
   "outputs": [],
   "source": []
  }
 ],
 "metadata": {
  "colab": {
   "authorship_tag": "ABX9TyPE3rM53bq1JjYT+ntAWKRb",
   "collapsed_sections": [
    "AKTivpn2eWOF",
    "0Cf5BwMYi9rc",
    "pFvvgsiEnZ59",
    "qGtE3dUSigvX"
   ],
   "mount_file_id": "1XuHOF4F2v8KTAHqU6jQox9rVB_V7RBfA",
   "name": "Spam Classification.ipynb",
   "provenance": []
  },
  "kernelspec": {
   "display_name": "Python 3",
   "language": "python",
   "name": "python3"
  },
  "language_info": {
   "codemirror_mode": {
    "name": "ipython",
    "version": 3
   },
   "file_extension": ".py",
   "mimetype": "text/x-python",
   "name": "python",
   "nbconvert_exporter": "python",
   "pygments_lexer": "ipython3",
   "version": "3.8.8"
  }
 },
 "nbformat": 4,
 "nbformat_minor": 1
}
